{
 "cells": [
  {
   "cell_type": "markdown",
   "id": "101142ef",
   "metadata": {},
   "source": [
    "# Linear regression\n",
    "\n",
    "In this notebook, we implement an algorithm of linear regression with a single feature.<br>\n",
    "For the cost function, we use the mean squared error function, which is defined as\n",
    "$$C(x) = \\frac{1}{2m}\\sum_{i}^{m} \\left(a_0+a_1 x^{(i)}_1-y^{(i)}\\right)^2,$$\n",
    "where $x^{(i)}$ and $y^{(i)}$ are the training data, $m$ the number of training data, and $\\{a_0,a_1\\}$ the fitting parameters.\n",
    "\n",
    "The fitting parameters are optimized using gradient descent,\n",
    "$$\n",
    "a_0^{\\mathrm{new}} = a_0 - \\eta \\frac{\\partial C}{\\partial a_0},\\qquad\n",
    "a_1^{\\mathrm{new}} = a_1 - \\eta \\frac{\\partial C}{\\partial a_1}.\n",
    "$$"
   ]
  },
  {
   "cell_type": "code",
   "execution_count": 1,
   "id": "e4a35229",
   "metadata": {},
   "outputs": [],
   "source": [
    "import numpy as np\n",
    "import matplotlib.pyplot as plt"
   ]
  },
  {
   "cell_type": "code",
   "execution_count": 2,
   "id": "894bde8f",
   "metadata": {},
   "outputs": [],
   "source": [
    "class LinearRegression():\n",
    "    \"\"\"\n",
    "    It fits data with a linear fit function.\n",
    "    It minimizes the cost function using gradient descent\n",
    "    in order to find the fit parameters.\n",
    "    x   : input training data\n",
    "    y   : output training data\n",
    "    eta : learning rate\n",
    "    N   : total # of iterations\n",
    "    \"\"\"\n",
    "    def __init__(self):\n",
    "        \"\"\"\n",
    "        Initializing the setup.\n",
    "        a0 : 0th order parameter\n",
    "        a1 : 1st order parameter\n",
    "        \"\"\"\n",
    "        self.a0 = np.random.randn()\n",
    "        self.a1 = np.random.randn()\n",
    "        self.costs = []\n",
    "    \n",
    "    def fit_func(self,x):\n",
    "        \"\"\"\n",
    "        Linear fit function\n",
    "        \"\"\"\n",
    "        return self.a0 + self.a1*x\n",
    "\n",
    "    def cost(self,x,y):\n",
    "        \"\"\"\n",
    "        The mean squared error function\n",
    "        \"\"\"\n",
    "        return 0.5*np.average((self.fit_func(x) - y)**2)\n",
    "\n",
    "    def del_cost(self,x,y):\n",
    "        \"\"\"\n",
    "        Derivative of the cost function with respect to a0\n",
    "        \"\"\"\n",
    "        return self.fit_func(x)-y\n",
    "\n",
    "    def update(self,x,y,eta):\n",
    "        \"\"\"\n",
    "        Updating the fitting paramters using gradient descent.\n",
    "        \"\"\"\n",
    "        temp0 = self.a0 - eta*np.average(self.del_cost(x,y))\n",
    "        temp1 = self.a1 - eta*np.average(self.del_cost(x,y)*x)\n",
    "        self.a0 = temp0\n",
    "        self.a1 = temp1\n",
    "    \n",
    "    def run(self,x,y,eta,N):\n",
    "        \"\"\"\n",
    "        Iterating the update function as well as calculating the cost.\n",
    "        \"\"\"\n",
    "        for i in range(N):\n",
    "            self.update(x,y,eta)\n",
    "            self.costs.append(self.cost(x,y))   "
   ]
  },
  {
   "cell_type": "code",
   "execution_count": 3,
   "id": "9689a3d2",
   "metadata": {},
   "outputs": [],
   "source": [
    "# Preparing training dataset\n",
    "X    = np.random.randn(1000)\n",
    "Y = 3*X+np.random.randn(1000)"
   ]
  },
  {
   "cell_type": "code",
   "execution_count": 4,
   "id": "77bbf7a4",
   "metadata": {},
   "outputs": [],
   "source": [
    "LR = LinearRegression()\n",
    "LR.run(X,Y,0.1,100)"
   ]
  },
  {
   "cell_type": "code",
   "execution_count": 5,
   "id": "06e9c2cf",
   "metadata": {},
   "outputs": [
    {
     "data": {
      "image/png": "[encoded data removed]",
      "text/plain": [
       "<Figure size 648x288 with 2 Axes>"
      ]
     },
     "metadata": {
      "needs_background": "light"
     },
     "output_type": "display_data"
    }
   ],
   "source": [
    "fit_x = np.linspace(X.min(),X.max(),100)\n",
    "fig, (ax0,ax1) = plt.subplots(1,2,figsize = (9,4))\n",
    "plt.subplots_adjust(wspace=0.3)\n",
    "ax0.plot(X,Y,'.', label = 'data')\n",
    "ax0.plot(fit_x, LR.fit_func(fit_x),linewidth=3, label = 'fit')\n",
    "ax0.legend(fontsize=13)\n",
    "ax0.set_xlabel('X',fontsize = 13)\n",
    "ax0.set_ylabel('Y',fontsize = 13)\n",
    "ax1.plot(LR.costs)\n",
    "ax1.set_xlabel('# of iterations',fontsize = 13)\n",
    "ax1.set_xscale('log')\n",
    "ax1.set_yscale('log')\n",
    "ax1.set_ylabel('Cost',fontsize = 13)\n",
    "plt.show()"
   ]
  },
  {
   "cell_type": "code",
   "execution_count": null,
   "id": "e7f2fe3b",
   "metadata": {},
   "outputs": [],
   "source": []
  }
 ],
 "metadata": {
  "kernelspec": {
   "display_name": "Python 3 (ipykernel)",
   "language": "python",
   "name": "python3"
  },
  "language_info": {
   "codemirror_mode": {
    "name": "ipython",
    "version": 3
   },
   "file_extension": ".py",
   "mimetype": "text/x-python",
   "name": "python",
   "nbconvert_exporter": "python",
   "pygments_lexer": "ipython3",
   "version": "3.9.10"
  }
 },
 "nbformat": 4,
 "nbformat_minor": 5
}
